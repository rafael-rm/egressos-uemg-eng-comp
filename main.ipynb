{
 "cells": [
  {
   "cell_type": "markdown",
   "id": "571e6b7a",
   "metadata": {},
   "source": [
    "#### Bibliotecas"
   ]
  },
  {
   "cell_type": "code",
   "execution_count": 1,
   "id": "d2838cc9",
   "metadata": {},
   "outputs": [],
   "source": [
    "from gettext import find\n",
    "import time\n",
    "import os\n",
    "import dotenv\n",
    "from selenium import webdriver\n",
    "from selenium.webdriver.common.by import By\n",
    "from selenium.webdriver.common.keys import Keys\n",
    "from selenium.webdriver.chrome.service import Service\n",
    "from bs4 import BeautifulSoup"
   ]
  },
  {
   "cell_type": "markdown",
   "id": "db68c57a",
   "metadata": {},
   "source": [
    "#### Inicializar variáveis"
   ]
  },
  {
   "cell_type": "code",
   "execution_count": 2,
   "id": "cda1d46a",
   "metadata": {},
   "outputs": [
    {
     "name": "stderr",
     "output_type": "stream",
     "text": [
      "C:\\Users\\rafae\\AppData\\Local\\Temp\\ipykernel_14408\\2135739458.py:6: DeprecationWarning: executable_path has been deprecated, please pass in a Service object\n",
      "  navegador = webdriver.Chrome(\"chromedriver.exe\")\n"
     ]
    }
   ],
   "source": [
    "dotenv.load_dotenv(dotenv.find_dotenv())\n",
    "usuario = os.getenv(\"user\")\n",
    "senha = os.getenv(\"password\")\n",
    "\n",
    "delay = 3\n",
    "navegador = webdriver.Chrome(\"chromedriver.exe\")"
   ]
  },
  {
   "cell_type": "markdown",
   "id": "f7e7737a",
   "metadata": {},
   "source": [
    "#### Login "
   ]
  },
  {
   "cell_type": "code",
   "execution_count": 3,
   "id": "9dea486c",
   "metadata": {},
   "outputs": [],
   "source": [
    "navegador.get(\"https://www.linkedin.com/login/pt\")\n",
    "time.sleep(delay)\n",
    "\n",
    "# ID do campo de usuário\n",
    "usuario_id = navegador.find_element(By.ID, \"username\")  \n",
    "\n",
    "# Login do usuário\n",
    "usuario_id.send_keys(usuario)      \n",
    "\n",
    "# ID do campo de senha\n",
    "senha_id = navegador.find_element(By.ID, \"password\")      \n",
    "\n",
    "# Senha do usuário\n",
    "senha_id.send_keys(senha)           \n",
    "\n",
    "# Clicar no botão de login (submit button)\n",
    "navegador.find_element(By.XPATH, \"//button[@type='submit']\").click()"
   ]
  },
  {
   "cell_type": "code",
   "execution_count": 48,
   "id": "e27dd20d",
   "metadata": {},
   "outputs": [],
   "source": [
    "# Abrir a pagina da UEMG na parte de ex-alunos\n",
    "navegador.get(\"https://www.linkedin.com/school/uemg/people/\")\n",
    "time.sleep(delay)\n",
    "\n",
    "# Clicar no botão de busca (search button) e digitar o nome do aluno\n",
    "buscar_pessoa = navegador.find_element(By.ID, \"people-search-keywords\")\n",
    "buscar_pessoa.send_keys(\"rafael rodrigues\")\n",
    "buscar_pessoa.send_keys(Keys.ENTER)\n",
    "time.sleep(delay)"
   ]
  },
  {
   "cell_type": "code",
   "execution_count": 49,
   "id": "a31a6e6a",
   "metadata": {},
   "outputs": [],
   "source": [
    "# Iniciar o SOUP\n",
    "src = navegador.page_source\n",
    "soup = BeautifulSoup(src, 'lxml')"
   ]
  },
  {
   "cell_type": "markdown",
   "id": "c1f828cd",
   "metadata": {},
   "source": [
    "#### Rodar a pagina para baixo (carregar todos os alunos encontrados)"
   ]
  },
  {
   "cell_type": "code",
   "execution_count": 50,
   "id": "646c61b4",
   "metadata": {},
   "outputs": [],
   "source": [
    "start = time.time()\n",
    "# will be used in the while loop\n",
    "initialScroll = 0\n",
    "finalScroll = 1000\n",
    " \n",
    "while True:\n",
    "    navegador.execute_script(f\"window.scrollTo({initialScroll}, {finalScroll})\")\n",
    "    # this command scrolls the window starting from\n",
    "    # the pixel value stored in the initialScroll \n",
    "    # variable to the pixel value stored at the\n",
    "    # finalScroll variable\n",
    "    initialScroll = finalScroll\n",
    "    finalScroll += 1000\n",
    "  \n",
    "    # we will stop the script for 3 seconds so that \n",
    "    # the data can load\n",
    "    time.sleep(1)\n",
    "    # You can change it as per your needs and internet speed\n",
    "  \n",
    "    end = time.time()\n",
    "  \n",
    "    # We will scroll for 20 seconds.\n",
    "    # You can change it as per your needs and internet speed\n",
    "    if round(end - start) > 8:\n",
    "        break"
   ]
  },
  {
   "cell_type": "code",
   "execution_count": 51,
   "id": "2076d66a",
   "metadata": {},
   "outputs": [
    {
     "name": "stdout",
     "output_type": "stream",
     "text": [
      "Ex-alunos encontrados: 16\n"
     ]
    }
   ],
   "source": [
    "# Pegar a classe que contem o numero de alunos encontrados na pesquisa atual\n",
    "intro = soup.find(\"span\", {'class': 't-20 t-black t-bold'})\n",
    "\n",
    "# Remover as palavras do texto encontrado (\"X ex-estudantes\")\n",
    "alunos_encontrados = \"\"\n",
    "for c in intro.text:\n",
    "    if c.isdigit():\n",
    "        alunos_encontrados = alunos_encontrados + c\n",
    "\n",
    "print(\"Ex-alunos encontrados: \" + alunos_encontrados)\n",
    "time.sleep(delay)"
   ]
  },
  {
   "cell_type": "markdown",
   "id": "11ac4a01",
   "metadata": {},
   "source": [
    "#### Pegar o nome e URL do perfil de cada aluno encontrado"
   ]
  },
  {
   "cell_type": "code",
   "execution_count": 52,
   "id": "ca52157e",
   "metadata": {
    "scrolled": true
   },
   "outputs": [
    {
     "name": "stdout",
     "output_type": "stream",
     "text": [
      "Nome do aluno: Rafael Rodrigues\n",
      "Url do perfil: https://www.linkedin.com/in/rafael-rodrigues-50932a214?miniProfileUrn=urn%3Ali%3Afs_miniProfile%3AACoAADYnTFkB0bnYZg-uAxkLkyTe7v8IbH-zM4I\n",
      "Nome do aluno: Rafael Rodrigues\n",
      "Url do perfil: https://www.linkedin.com/in/rafael-rodrigues-49b25174?miniProfileUrn=urn%3Ali%3Afs_miniProfile%3AACoAAA-ytncB3mlhhbgLI4lrzEugSucVPa_YPr8\n",
      "Nome do aluno: Rafael Rodrigues\n",
      "Url do perfil: https://www.linkedin.com/in/rafael-rodrigues-405023114?miniProfileUrn=urn%3Ali%3Afs_miniProfile%3AACoAABx6uIUBxfTTUn8Vny58YwThKBkl6frkrfI\n",
      "Nome do aluno: Rafael Rodrigues\n",
      "Url do perfil: https://www.linkedin.com/in/rafael-rodrigues-97a5aa186?miniProfileUrn=urn%3Ali%3Afs_miniProfile%3AACoAACvezu4BrPSyodoNFkNs5VUaFguAyhaj76k\n",
      "Nome do aluno: Rafael Rodrigues\n",
      "Url do perfil: https://www.linkedin.com/in/rafael-rodrigues-a08070b9?miniProfileUrn=urn%3Ali%3Afs_miniProfile%3AACoAABkajKgBxZwp_sjz5-SWYVD9AkRiCwshpUA\n",
      "Nome do aluno: Rafael Rodrigues\n",
      "Url do perfil: https://www.linkedin.com/in/rafael-rodrigues-27842493?miniProfileUrn=urn%3Ali%3Afs_miniProfile%3AACoAABPRXnwBB9vfalhUsSfo1AWGNEYX7_fA2kE\n",
      "Nome do aluno: Rafael Rodrigues\n",
      "Url do perfil: https://www.linkedin.com/in/rafael-rodrigues-331797171?miniProfileUrn=urn%3Ali%3Afs_miniProfile%3AACoAACjfbhUBkTfeJmc_taG2cLTKNbjYexZv1cA\n",
      "Nome do aluno: Raphael Rodrigues\n",
      "Url do perfil: https://www.linkedin.com/in/raphael-rodrigues-bb32b1146?miniProfileUrn=urn%3Ali%3Afs_miniProfile%3AACoAACNIgHcByGWUDRWrlIuObEzApwTtqKBLHPQ\n",
      "Nome do aluno: Rafael Rodrigues\n",
      "Url do perfil: https://www.linkedin.com/in/rafael-rodrigues-dg?miniProfileUrn=urn%3Ali%3Afs_miniProfile%3AACoAAAh1EiIBIOtANyRhvekgJLBkAxNeib4d88c\n",
      "Nome do aluno: Rafael Rodrigues\n",
      "Url do perfil: https://www.linkedin.com/in/rafael-rodrigues-237673153?miniProfileUrn=urn%3Ali%3Afs_miniProfile%3AACoAACTwhIsBC2A13ZaT-AaYqjCYXAlZEGb0NG8\n",
      "Nome do aluno: Rafael Nogueira Rodrigues\n",
      "Url do perfil: https://www.linkedin.com/in/rafael-nogueira-rodrigues-67139a129?miniProfileUrn=urn%3Ali%3Afs_miniProfile%3AACoAAB-PFDUBROGVMNAcFFSP7P1UC01nXalpMg4\n",
      "Nome do aluno: Rafael Rodrigues\n",
      "Url do perfil: https://www.linkedin.com/in/rafael-rodrigues-b0957319b?miniProfileUrn=urn%3Ali%3Afs_miniProfile%3AACoAAC7kPXkBdlmIeTx7m-ZnlsCW45GUWt9HjxQ\n"
     ]
    }
   ],
   "source": [
    "# Pegar a classe html dos ex-alunos 1 por 1\n",
    "alunos = []\n",
    "for aluno in soup.find_all(\"div\", {'class': 'artdeco-entity-lockup__title ember-view'}):\n",
    "    print(\"Nome do aluno: \" + aluno.find(\"div\").get_text().strip())\n",
    "    print(\"Url do perfil: \" + aluno.find(\"a\").get(\"href\"))\n",
    "    dados = {\n",
    "        \"nome\": aluno.find(\"div\").get_text().strip(),\n",
    "        \"url\": aluno.find(\"a\").get(\"href\")\n",
    "    }\n",
    "    alunos.append(dados)"
   ]
  },
  {
   "cell_type": "code",
   "execution_count": null,
   "id": "083e0c5a",
   "metadata": {},
   "outputs": [],
   "source": [
    "# Imprimir o dado do primeiro aluno\n",
    "print(\"Nome do aluno: \" + alunos[0][\"nome\"])\n",
    "print(\"Url do perfil: \" + alunos[0][\"url\"])"
   ]
  },
  {
   "cell_type": "code",
   "execution_count": null,
   "id": "bc9b432b",
   "metadata": {},
   "outputs": [],
   "source": [
    "#navegador.get(alunos[0][\"url\"])\n",
    "navegador.get(\"https://www.linkedin.com/in/edwaldorodrigues/\")\n",
    "time.sleep(delay)\n",
    "\n",
    "src = navegador.page_source\n",
    "soup = BeautifulSoup(src, 'lxml')"
   ]
  },
  {
   "cell_type": "code",
   "execution_count": null,
   "id": "39e1038e",
   "metadata": {},
   "outputs": [],
   "source": [
    "graduacao = soup.find_all(\"div\", {'class': 'display-flex flex-row justify-space-between'})\n",
    "print(graduacao)"
   ]
  },
  {
   "cell_type": "code",
   "execution_count": null,
   "id": "0aa637d7",
   "metadata": {},
   "outputs": [],
   "source": []
  }
 ],
 "metadata": {
  "kernelspec": {
   "display_name": "Python 3.10.5 64-bit",
   "language": "python",
   "name": "python3"
  },
  "language_info": {
   "codemirror_mode": {
    "name": "ipython",
    "version": 3
   },
   "file_extension": ".py",
   "mimetype": "text/x-python",
   "name": "python",
   "nbconvert_exporter": "python",
   "pygments_lexer": "ipython3",
   "version": "3.10.5"
  },
  "vscode": {
   "interpreter": {
    "hash": "5722daad9755055b013a651651e76bfefcd0039befef69efb03fa00fbea6a530"
   }
  }
 },
 "nbformat": 4,
 "nbformat_minor": 5
}
